{
 "cells": [],
 "metadata": {
  "kernelspec": {
   "display_name": "Python 3 (ipykernel)",
   "language": "python",
   "name": "python3"
  },
  "language_info": {
   "codemirror_mode": {
    "name": "ipython",
    "version": 3
   },
   "file_extension": ".py",
   "mimetype": "text/x-python",
   "name": "python",
   "nbconvert_exporter": "python",
   "pygments_lexer": "ipython3",
   "version": "3.9.12"
  },
  "pycharm": {
   "stem_cell": {
    "cell_type": "raw",
    "source": [
     "import os\n",
     "\n",
     "import pandas as pd\n",
     "\n",
     "output_dir = 'output'\n",
     "\n",
     "\n",
     "def get_latest_output_dir():\n",
     "    fps = [os.path.join(output_dir, i) for i in os.listdir(output_dir)]\n",
     "    fps_dir = [i for i in fps if os.path.isdir(i)]\n",
     "    return sorted(fps_dir)[-1]\n",
     "\n",
     "\n",
     "def get_latest_composite_prices_df():\n",
     "    latest_composite_prices_fp = os.path.join(get_latest_output_dir(), 'prices/composite/index.csv')\n",
     "    df_latest_composite_prices = pd.read_csv(latest_composite_prices_fp)\n",
     "    df_latest_composite_prices.set_index('x', inplace=True)\n",
     "    df_latest_composite_prices.index = pd.to_datetime(df_latest_composite_prices.index)\n",
     "    return df_latest_composite_prices\n",
     "\n",
     "\n",
     "import missingno as msno\n",
     "% matplotlib inline\n",
     "df_latest_composite_prices = get_latest_composite_prices_df()\n",
     "msno.matrix(df_latest_composite_prices.iloc[:, :1000])\n",
     "msno.matrix(df_latest_composite_prices.iloc[:, 1000:2000]);\n",
     "msno.matrix(df_latest_composite_prices.iloc[:, 2000:3000]);\n",
     "\n"
    ],
    "metadata": {
     "collapsed": false
    }
   }
  }
 },
 "nbformat": 4,
 "nbformat_minor": 1
}