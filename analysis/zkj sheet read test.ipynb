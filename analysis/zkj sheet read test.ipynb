{
 "cells": [
  {
   "cell_type": "markdown",
   "id": "bb1a798a",
   "metadata": {},
   "source": [
    "## zkj sheet read test"
   ]
  },
  {
   "cell_type": "code",
   "execution_count": 4,
   "id": "bf4004b9",
   "metadata": {},
   "outputs": [
    {
     "name": "stderr",
     "output_type": "stream",
     "text": [
      "/Users/mark/opt/anaconda3/lib/python3.9/site-packages/openpyxl/reader/workbook.py:88: UserWarning: File contains an invalid specification for Sheet1. This will be removed\n",
      "  warn(msg)\n"
     ]
    },
    {
     "data": {
      "text/plain": [
       "[]"
      ]
     },
     "execution_count": 4,
     "metadata": {},
     "output_type": "execute_result"
    }
   ],
   "source": [
    "fp = '/Users/mark/Library/Containers/com.tencent.xinWeChat/Data/Library/Application Support/com.tencent.xinWeChat/2.0b4.0.9/1d35a41b3adb8b335cc59362ad55ee88/Message/MessageTemp/51ef4e81897e6aa6cb9a35d234e05c9b/File/碳中和数据-中国低碳-证券成交量2011.08-2022.03.xlsx'\n",
    "\n",
    "pd.ExcelFile(fp).sheet_names"
   ]
  },
  {
   "cell_type": "code",
   "execution_count": 3,
   "id": "2ac691f5",
   "metadata": {},
   "outputs": [
    {
     "data": {
      "text/plain": [
       "['Sheet1']"
      ]
     },
     "execution_count": 3,
     "metadata": {},
     "output_type": "execute_result"
    }
   ],
   "source": [
    "fp2 = '/Users/mark/Documents/副本碳中和数据-中国低碳-证券成交量2011.08-2022.03.xlsx'\n",
    "\n",
    "pd.ExcelFile(fp2).sheet_names"
   ]
  },
  {
   "cell_type": "code",
   "execution_count": 1,
   "id": "f89e03b5",
   "metadata": {},
   "outputs": [
    {
     "name": "stderr",
     "output_type": "stream",
     "text": [
      "/Users/mark/opt/anaconda3/lib/python3.9/site-packages/openpyxl/reader/workbook.py:88: UserWarning: File contains an invalid specification for Sheet1. This will be removed\n",
      "  warn(msg)\n"
     ]
    },
    {
     "data": {
      "text/plain": [
       "[]"
      ]
     },
     "execution_count": 1,
     "metadata": {},
     "output_type": "execute_result"
    }
   ],
   "source": [
    "df = pd.read_excel(fp2)\n",
    "df"
   ]
  },
  {
   "cell_type": "code",
   "execution_count": null,
   "id": "ae985df3",
   "metadata": {},
   "outputs": [],
   "source": []
  }
 ],
 "metadata": {
  "kernelspec": {
   "display_name": "Python 3 (ipykernel)",
   "language": "python",
   "name": "python3"
  },
  "language_info": {
   "codemirror_mode": {
    "name": "ipython",
    "version": 3
   },
   "file_extension": ".py",
   "mimetype": "text/x-python",
   "name": "python",
   "nbconvert_exporter": "python",
   "pygments_lexer": "ipython3",
   "version": "3.9.12"
  }
 },
 "nbformat": 4,
 "nbformat_minor": 5
}
